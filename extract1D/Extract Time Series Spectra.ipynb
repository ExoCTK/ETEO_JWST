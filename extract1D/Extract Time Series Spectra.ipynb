{
 "cells": [
  {
   "cell_type": "markdown",
   "metadata": {},
   "source": [
    "# Extract 1D Spectra From SOSS Observations\n",
    "\n",
    "After time-series observations are taken in NIRISS SOSS mode, the data can be cleaned and calibrated using the JWST pipeline. \n",
    "\n",
    "We will NOT cover that step in this notebook but will instead begin with some data that mimicks the calibrated output of the JWST pipeline.\n",
    "\n",
    "Let's begin with some imports..."
   ]
  },
  {
   "cell_type": "code",
   "execution_count": 6,
   "metadata": {
    "collapsed": false
   },
   "outputs": [
    {
     "name": "stdout",
     "output_type": "stream",
     "text": [
      "The autoreload extension is already loaded. To reload it, use:\n",
      "  %reload_ext autoreload\n"
     ]
    }
   ],
   "source": [
    "%matplotlib inline\n",
    "%load_ext autoreload\n",
    "%autoreload 2\n",
    "from astropy.io import fits\n",
    "import matplotlib.pyplot as plt"
   ]
  },
  {
   "cell_type": "markdown",
   "metadata": {},
   "source": [
    "## Take a look at the observations\n",
    "\n",
    "First we'll open the provided file, grab the 2D data and take a look at the header."
   ]
  },
  {
   "cell_type": "code",
   "execution_count": 7,
   "metadata": {
    "collapsed": false
   },
   "outputs": [],
   "source": [
    "# data2D = fits.getdata('WASP107_SOSS_observations.fits')\n",
    "# fits.getheader('WASP107_SOSS_observations.fits')"
   ]
  },
  {
   "cell_type": "markdown",
   "metadata": {},
   "source": [
    "Notice the shape of the data is `(900, 256, 2048)` since the reduced data are comprised of 900 integrations of the SOSS SUBSTRIP256 subarray, which is 256 rows and 2048 columns. Let's take a glance at one of the integrations."
   ]
  },
  {
   "cell_type": "code",
   "execution_count": 8,
   "metadata": {
    "collapsed": true
   },
   "outputs": [],
   "source": [
    "# plt.imshow(data2D[0], interpolation='none', origin='lower')"
   ]
  },
  {
   "cell_type": "markdown",
   "metadata": {},
   "source": [
    "## Run the spectral extraction on the 2D data\n",
    "\n",
    "What we would like from these data are an array of 900 1-D spectra along with their associated Julian Days. Then we can fit lightcurves to the spectra to find our planet.\n",
    "\n",
    "The JWST pipeline assigns an average wavelength to each of the 2048 columns of the SOSS subarray and then performs a simple column sum extraction routine, but we will demonstrate a more robust technique here that isolates the trace to exclude background pixels."
   ]
  },
  {
   "cell_type": "code",
   "execution_count": null,
   "metadata": {
    "collapsed": true
   },
   "outputs": [],
   "source": []
  }
 ],
 "metadata": {
  "anaconda-cloud": {},
  "kernelspec": {
   "display_name": "Python [conda env:astroconda]",
   "language": "python",
   "name": "conda-env-astroconda-py"
  },
  "language_info": {
   "codemirror_mode": {
    "name": "ipython",
    "version": 3
   },
   "file_extension": ".py",
   "mimetype": "text/x-python",
   "name": "python",
   "nbconvert_exporter": "python",
   "pygments_lexer": "ipython3",
   "version": "3.5.2"
  }
 },
 "nbformat": 4,
 "nbformat_minor": 1
}
