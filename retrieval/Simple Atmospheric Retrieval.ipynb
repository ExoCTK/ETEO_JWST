{
 "cells": [
  {
   "cell_type": "markdown",
   "metadata": {},
   "source": [
    "### Atmospheric Forward Model Generation\n",
    "\n"
   ]
  },
  {
   "cell_type": "code",
   "execution_count": 1,
   "metadata": {
    "collapsed": true
   },
   "outputs": [],
   "source": [
    "import numpy as np\n",
    "import matplotlib.pyplot as plt\n",
    "%matplotlib inline\n",
    "\n",
    "from ExoCTK.pal.forward_models import LineForwardModel"
   ]
  },
  {
   "cell_type": "markdown",
   "metadata": {},
   "source": [
    "The `LineForwardModel` computes atmospheric forward models , based on the methods described in  [Line & Parmentier 2016](https://ui.adsabs.harvard.edu/#abs/2016ApJ...820...78L/abstract) and [Batalha & Line 2017](https://ui.adsabs.harvard.edu/#abs/2017AJ....153..151B/abstract).\n",
    "To instantiate a model object we simply provide the directory containing cross-section tables  for the species considered and a path to a Fortran executable, [Chemical Equilibrium with Applications (CEA)](https://www.grc.nasa.gov/www/CEAWeb/), which calculates chemical abundances.\n",
    "\n",
    "**NOTE**: You may need to recompile  the executable depending on your machine. To do this,  simply run\n",
    "\n",
    "`gfortran cea2.f -o cea2.x -w`\n",
    "\n",
    "from the `cea/` directory, substituting `gfortran` for another Fortran compiler  if desired."
   ]
  },
  {
   "cell_type": "code",
   "execution_count": 2,
   "metadata": {
    "collapsed": false
   },
   "outputs": [],
   "source": [
    "initial_model = LineForwardModel('cross-sections/', 'cea/cea2.x')"
   ]
  },
  {
   "cell_type": "markdown",
   "metadata": {},
   "source": [
    "# Model Parameters\n",
    "\n",
    "\n",
    "### Planet/Star Parameters\n",
    "* `Rp` - radius of the planet in units of Jupiter Radii\n",
    "* `Rstar` - radius of the planet in units of Solar Radii\n",
    "* `Mp` - mass of the planet in units of Jupiter Mass \n",
    "\n",
    "### Temperature-Pressure Profile Parameters\n",
    "\n",
    "The thermal profile used in the model assumes the atmosphere to be in radiative equilibrium based upon the analytic radiative equilibrium temperature profile of Guillot 2010. This profile assumes one downwelling visible channels of radiation and one upwelling stream of thermal emission.\n",
    "\n",
    "* `Tirr` - temperature at the top of atmosphere in Kelvin\n",
    "* `logKir` - log of the Planck mean thermal infrared opacity\n",
    "* `logg1` - log of the ratio of the Planck mean opacities in the visible stream to the thermal stream\n",
    "\n",
    "### Chemistry Parameters\n",
    "* `logMet` - log Metallicity\n",
    "* `logCtoO` - log of the ratio Carbon to Oxygen abundance\n",
    "* `logPQC` - log of the pressure of Carbon quenching\n",
    "* `logPQN` - log of the pressure of Nitrogen quenching\n",
    "\n",
    "### Cloud Parameters\n",
    "* `logRayAmp` - log of the amplitude of Rayleigh scattering\n",
    "* `RaySlp` - Slope of Rayleigh scattering\n",
    "* `logPc` - Pressure level of cloud deck in mbar"
   ]
  },
  {
   "cell_type": "markdown",
   "metadata": {},
   "source": [
    "The `LineForwardModel` object is  an [`astropy.modeling.Fittable1DModel`](http://docs.astropy.org/en/stable/modeling/) so we use the  existing `astropy.modeling` tools to find the best-fit model parameters for some data. Let's consider our simulated transmission spectrum from WASP-107b.\n",
    "\n",
    "We'll start by setting the model parameters to some reasonable initial guess and fixing those which we know well or aren't interested in fitting."
   ]
  },
  {
   "cell_type": "code",
   "execution_count": 3,
   "metadata": {
    "collapsed": false
   },
   "outputs": [],
   "source": [
    "# Replace this with reading in the simulated SOSS data\n",
    "from astropy.io import ascii\n",
    "\n",
    "wave_obs = np.arange(0.8, 2.5, 0.1)\n",
    "transmission = ascii.read('P_1000.0_eos_0p1Xsolar_gas_spec.dat', data_start=2)\n",
    "def _instrument_non_uniform_tophat(wlgrid, wno, Fp):\n",
    "    szmod = wlgrid.shape[0]\n",
    "\n",
    "    delta = np.zeros(szmod)\n",
    "    Fint = np.zeros(szmod)\n",
    "    delta[0:-1] = wlgrid[1:] - wlgrid[:-1]\n",
    "    delta[szmod - 1] = delta[szmod - 2]\n",
    "    # pdb.set_trace()\n",
    "    for i in range(szmod - 1):\n",
    "        i = i + 1\n",
    "        loc = np.where((1E4 / wno >= wlgrid[i] - 0.5 * delta[i - 1]) & (\n",
    "        1E4 / wno < wlgrid[i] + 0.5 * delta[i]))\n",
    "        Fint[i] = np.mean(Fp[loc])\n",
    "\n",
    "    loc = np.where((1E4 / wno > wlgrid[0] - 0.5 * delta[0]) & (\n",
    "    1E4 / wno < wlgrid[0] + 0.5 * delta[0]))\n",
    "    Fint[0] = np.mean(Fp[loc])\n",
    "\n",
    "    return Fint\n",
    "\n",
    "trans_obs = _instrument_non_uniform_tophat(wave_obs, 1e4/(transmission['Wavelength']/1e-6)[::-1].data, transmission['Transit Depth'][::-1]/100)"
   ]
  },
  {
   "cell_type": "code",
   "execution_count": 4,
   "metadata": {
    "collapsed": false
   },
   "outputs": [],
   "source": [
    "initial_model.Rp = 0.94\n",
    "initial_model.Mp = 0.12\n",
    "initial_model.Rstar = 0.66\n",
    "\n",
    "initial_model.Rp.fixed = True\n",
    "initial_model.Mp.fixed = True\n",
    "initial_model.Rstar.fixed = True\n",
    "\n",
    "initial_model.Tirr = 1200.\n",
    "initial_model.logKir = -1.5\n",
    "initial_model.logg1 = -1.0\n",
    "\n",
    "initial_model.logMet = 0.0\n",
    "initial_model.logCtoO = -0.26\n",
    "initial_model.logPQC.fixed = True # default is -5\n",
    "initial_model.logPQN.fixed = True # default is -5\n",
    "\n",
    "initial_model.logRayAmp.fixed = True # default is 0\n",
    "initial_model.RaySlp.fixed = True # default is 4\n",
    "initial_model.logPc = 1.5"
   ]
  },
  {
   "cell_type": "markdown",
   "metadata": {},
   "source": [
    "We'll use Astropy's Levenburg-Marquardt Least Squares Fitter to get a basic best fit to the data."
   ]
  },
  {
   "cell_type": "code",
   "execution_count": 5,
   "metadata": {
    "collapsed": true
   },
   "outputs": [],
   "source": [
    "from astropy.modeling.fitting import LevMarLSQFitter\n",
    "\n",
    "fitter = LevMarLSQFitter()\n",
    "best_fit_model = fitter(initial_model, wave_obs, trans_obs, maxiter=1000)"
   ]
  },
  {
   "cell_type": "code",
   "execution_count": 7,
   "metadata": {
    "collapsed": false
   },
   "outputs": [
    {
     "data": {
      "text/plain": [
       "<matplotlib.text.Text at 0x11eab74e0>"
      ]
     },
     "execution_count": 7,
     "metadata": {},
     "output_type": "execute_result"
    },
    {
     "data": {
      "image/png": "[encoded data removed]",
      "text/plain": [
       "<matplotlib.figure.Figure at 0x11ea8d4a8>"
      ]
     },
     "metadata": {},
     "output_type": "display_data"
    }
   ],
   "source": [
    "plt.errorbar(wave_obs, trans_obs, fmt='sk')\n",
    "plt.plot(wave_obs, best_fit_model(wave_obs), 'bo')\n",
    "plt.plot(best_fit_model.full_wavelength, best_fit_model.full_flux) # model at the full resolution wavelength grid\n",
    "plt.xlim(0.5, 3.0)\n",
    "plt.xlabel('Wavelength (micron)')\n",
    "plt.ylabel('Transit Depth $(R_P/R_*)^2$')"
   ]
  },
  {
   "cell_type": "markdown",
   "metadata": {},
   "source": [
    "# Citations\n",
    "\n",
    "The basic transmission code for computing the forward model\n",
    "\n",
    "[Line, M.R., Knutson, H., Deming, D., Wilkins, A., Desert, J-M. , 2013, A near-infrared transmission spectrum for warm Saturn HAT-P-12b , ApJ, 778](https://ui.adsabs.harvard.edu/#abs/2013ApJ...778..183L/abstract)\n",
    "\n",
    "[Greene, T. P., Line, M.R., Montero, C., Fortney, J. J., Lustig-Yaeger, J., Luther, K., 2016, Characterizing Transiting Exoplanet Atmospheres with JWST, ApJ, 817](https://ui.adsabs.harvard.edu/#abs/2016ApJ...817...17G/abstract)\n",
    "\n",
    "[Line, M.R., Parmentier, V., 2016, The Influence of Nonuniform Cloud Cover on Transit Transmission Spectra, ApJ, 820](https://ui.adsabs.harvard.edu/#abs/2016ApJ...820...78L/abstract)\n",
    "\n",
    "Equilibrium chemistry implementation using the NASA CEA Code:\n",
    "\n",
    "[Kreidberg L., Line, M.R., Bean, J.L., Stevenson, K.B., Desert, J-M., Madhusudhan, N., Fortney, J.J., Barstow, J.K., Henry, G.W., Williamson, M., Showman, A.P., 2015, A Detection of Water in the Transmission Spectrum of the Hot Jupiter WASP-12b and Implications for its Atmospheric Composition, ApJ, 814](https://ui.adsabs.harvard.edu/#abs/2015ApJ...814...66K/abstract)\n",
    "\n",
    "[Batalha, N.E., Line, M.R., 2017, Information Content Analysis for Selection of Optimal JWST Observing Modes, AJ, 153](https://ui.adsabs.harvard.edu/#abs/2017AJ....153..151B/abstract)\n",
    "\n",
    "CEA code, itself:\n",
    "\n",
    "[Gordon, S., & McBride, B. J. 1994, NASRP, 1311](https://ntrs.nasa.gov/archive/nasa/casi.ntrs.nasa.gov/19950013764.pdf)\n",
    "\n",
    "Correlated-K implementation/algorithm should cite:\n",
    "\n",
    "[Lacis, A., Oinas, V., 1991, JGR, 96](https://pubs.giss.nasa.gov/abs/la01100t.html)\n",
    "\n",
    "[Amundsen, D.S., Tremblin, P., Manners, J., Baraffe, I., Mayne, N.J., 2017, A&A, 598](https://ui.adsabs.harvard.edu/#abs/2017A&A...598A..97A/abstract)\n",
    "\n",
    "Line-by-line cross sections :\n",
    "\n",
    "[Freedman, R.S., Marley, M.S., Lodders, K., 2008, ApJS, 2008](https://ui.adsabs.harvard.edu/#abs/2008ApJS..174..504F/abstract)\n",
    "\n",
    "[Freedman, R.S., Lustig-Yaeger, J., Fortney, J.J., Lupu, R.E., Marley, M.S., Lodders, K., 2014, ApJS, 214](https://ui.adsabs.harvard.edu/#abs/2014ApJS..214...25F/abstract)"
   ]
  }
 ],
 "metadata": {
  "kernelspec": {
   "display_name": "Python 3",
   "language": "python",
   "name": "python3"
  },
  "language_info": {
   "codemirror_mode": {
    "name": "ipython",
    "version": 3
   },
   "file_extension": ".py",
   "mimetype": "text/x-python",
   "name": "python",
   "nbconvert_exporter": "python",
   "pygments_lexer": "ipython3",
   "version": "3.5.2"
  }
 },
 "nbformat": 4,
 "nbformat_minor": 2
}
